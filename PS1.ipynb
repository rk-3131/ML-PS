{
 "cells": [
  {
   "cell_type": "code",
   "execution_count": 3,
   "id": "ac98be00",
   "metadata": {},
   "outputs": [],
   "source": [
    "import pandas as pd\n",
    "from sklearn.model_selection import train_test_split\n",
    "from sklearn.neighbors import KNeighborsClassifier\n",
    "from sklearn.metrics import accuracy_score\n",
    "\n",
    "# Load the dataset\n",
    "data = pd.read_csv('bank_marketing.csv')"
   ]
  },
  {
   "cell_type": "code",
   "execution_count": 5,
   "id": "e642706c",
   "metadata": {},
   "outputs": [
    {
     "name": "stdout",
     "output_type": "stream",
     "text": [
      "<class 'pandas.core.frame.DataFrame'>\n",
      "RangeIndex: 5581 entries, 0 to 5580\n",
      "Data columns (total 18 columns):\n",
      " #   Column      Non-Null Count  Dtype \n",
      "---  ------      --------------  ----- \n",
      " 0   Unnamed: 0  5581 non-null   int64 \n",
      " 1   age         5581 non-null   int64 \n",
      " 2   job         5581 non-null   object\n",
      " 3   marital     5581 non-null   object\n",
      " 4   education   5581 non-null   object\n",
      " 5   default     5581 non-null   object\n",
      " 6   balance     5581 non-null   int64 \n",
      " 7   housing     5581 non-null   object\n",
      " 8   loan        5581 non-null   object\n",
      " 9   contact     5581 non-null   object\n",
      " 10  day         5581 non-null   int64 \n",
      " 11  month       5581 non-null   object\n",
      " 12  duration    5581 non-null   int64 \n",
      " 13  campaign    5581 non-null   int64 \n",
      " 14  pdays       5581 non-null   int64 \n",
      " 15  previous    5581 non-null   int64 \n",
      " 16  poutcome    5581 non-null   object\n",
      " 17  deposit     5581 non-null   object\n",
      "dtypes: int64(8), object(10)\n",
      "memory usage: 785.0+ KB\n"
     ]
    }
   ],
   "source": [
    "# You can check the data types using data.info()\n",
    "data.info()\n",
    "\n",
    "# If any data type needs to be changed, you can do it like this:\n",
    "# Example: Convert 'age' to integer\n",
    "data['age'] = data['age'].astype(int)"
   ]
  },
  {
   "cell_type": "code",
   "execution_count": 6,
   "id": "65e9606d",
   "metadata": {},
   "outputs": [],
   "source": [
    "# Drop 'Unnamed: 0' column\n",
    "data = data.drop('Unnamed: 0', axis=1)\n",
    "\n",
    "# Drop missing values\n",
    "data = data.dropna()\n",
    "\n",
    "# Drop duplicated rows\n",
    "data = data.drop_duplicates()"
   ]
  },
  {
   "cell_type": "code",
   "execution_count": 7,
   "id": "7db24460",
   "metadata": {},
   "outputs": [],
   "source": [
    "categorical_cols = ['job', 'marital', 'education', 'default', 'housing', 'loan', 'contact', 'month', 'poutcome']\n",
    "data = pd.get_dummies(data, columns=categorical_cols, drop_first=True)"
   ]
  },
  {
   "cell_type": "code",
   "execution_count": 8,
   "id": "ddc258c1",
   "metadata": {},
   "outputs": [],
   "source": [
    "X = data.drop('deposit', axis=1)  # Assuming 'deposit' is the target variable\n",
    "y = data['deposit']\n",
    "X_train, X_test, y_train, y_test = train_test_split(X, y, test_size=0.3, random_state=0)"
   ]
  },
  {
   "cell_type": "code",
   "execution_count": 9,
   "id": "c75b5d58",
   "metadata": {},
   "outputs": [
    {
     "name": "stdout",
     "output_type": "stream",
     "text": [
      "Accuracy of the model on the test dataset: 0.7546268656716418\n"
     ]
    }
   ],
   "source": [
    "knn = KNeighborsClassifier(n_neighbors=7)\n",
    "knn.fit(X_train, y_train)\n",
    "\n",
    "y_pred = knn.predict(X_test)\n",
    "\n",
    "accuracy = accuracy_score(y_test, y_pred)\n",
    "print(\"Accuracy of the model on the test dataset:\", accuracy)"
   ]
  },
  {
   "cell_type": "code",
   "execution_count": null,
   "id": "0f057d7b",
   "metadata": {},
   "outputs": [],
   "source": []
  }
 ],
 "metadata": {
  "kernelspec": {
   "display_name": "Python 3 (ipykernel)",
   "language": "python",
   "name": "python3"
  },
  "language_info": {
   "codemirror_mode": {
    "name": "ipython",
    "version": 3
   },
   "file_extension": ".py",
   "mimetype": "text/x-python",
   "name": "python",
   "nbconvert_exporter": "python",
   "pygments_lexer": "ipython3",
   "version": "3.10.2"
  }
 },
 "nbformat": 4,
 "nbformat_minor": 5
}
